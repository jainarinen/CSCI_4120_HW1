{
 "cells": [
  {
   "cell_type": "markdown",
   "metadata": {},
   "source": [
    "# Classify Flowers Using Measurements"
   ]
  },
  {
   "cell_type": "markdown",
   "metadata": {},
   "source": [
    "This example is from: https://machinelearningmastery.com/tutorial-to-implement-k-nearest-neighbors-in-python-from-scratch/\n",
    "\n",
    "The test problem we will be using in this tutorial is iris classification.\n",
    "\n",
    "Based on the sepal length, sepal width, petal length and petal width of 150 observations of iris flowers, we need to implement a classification model to predict the species, which is one of setosa, versicolor or virginica.\n",
    "\n",
    "It is a standard dataset where the species is known for all instances. As such we can split the data into training and test datasets and use the results to evaluate our algorithm implementation. Good classification accuracy on this problem is above 90% correct, typically 96% or better.\n",
    "\n",
    "Here is a iris flower image:\n",
    "<img src=\"iris_petal_sepal.png\" />"
   ]
  },
  {
   "cell_type": "markdown",
   "metadata": {},
   "source": [
    "# How to implement k-Nearest Neighbors in Python"
   ]
  },
  {
   "cell_type": "markdown",
   "metadata": {},
   "source": [
    "This tutorial is broken down into the following steps:\n",
    "\n",
    "1. Handle Data: Open the dataset from CSV and split into test/train datasets.\n",
    "2. Similarity: Calculate the distance between two data instances.\n",
    "3. Neighbors: Locate k most similar data instances.\n",
    "4. Response: Generate a response from a set of data instances.\n",
    "5. Accuracy: Summarize the accuracy of predictions.\n",
    "6. Main: Tie it all together.\n"
   ]
  },
  {
   "cell_type": "markdown",
   "metadata": {},
   "source": [
    "## 1. Handle Data"
   ]
  },
  {
   "cell_type": "markdown",
   "metadata": {},
   "source": [
    "The first thing we need to do is load our data file. The data is in CSV format without a header line or any quotes. We can open the file with the open function and read the data lines using the reader function in the csv module."
   ]
  },
  {
   "cell_type": "code",
   "execution_count": 1,
   "metadata": {},
   "outputs": [
    {
     "name": "stdout",
     "output_type": "stream",
     "text": [
      "Defaulting to user installation because normal site-packages is not writeable\n",
      "Requirement already satisfied: pandas in /home/naomi/.local/lib/python3.8/site-packages (1.4.4)\n",
      "Requirement already satisfied: python-dateutil>=2.8.1 in /home/naomi/.local/lib/python3.8/site-packages (from pandas) (2.8.2)\n",
      "Requirement already satisfied: pytz>=2020.1 in /home/naomi/.local/lib/python3.8/site-packages (from pandas) (2022.2.1)\n",
      "Requirement already satisfied: numpy>=1.18.5 in /home/naomi/.local/lib/python3.8/site-packages (from pandas) (1.23.3)\n",
      "Requirement already satisfied: six>=1.5 in /usr/lib/python3/dist-packages (from python-dateutil>=2.8.1->pandas) (1.14.0)\n",
      "     0    1    2    3            4\n",
      "0  5.1  3.5  1.4  0.2  Iris-setosa\n",
      "1  4.9  3.0  1.4  0.2  Iris-setosa\n",
      "2  4.7  3.2  1.3  0.2  Iris-setosa\n",
      "3  4.6  3.1  1.5  0.2  Iris-setosa\n",
      "4  5.0  3.6  1.4  0.2  Iris-setosa\n"
     ]
    }
   ],
   "source": [
    "!pip3 install pandas\n",
    "import pandas as pd\n",
    "pd.__version__\n",
    "\n",
    "url = 'https://raw.githubusercontent.com/ruiwu1990/CSCI_4120/master/KNN/iris.data'\n",
    "df = pd.read_csv(url, header=None)\n",
    "print(df.head())"
   ]
  },
  {
   "cell_type": "markdown",
   "metadata": {},
   "source": [
    "Next we need to split the data into a training dataset that kNN can use to make predictions and a test dataset that we can use to evaluate the accuracy of the model.\n",
    "\n",
    "We first need to convert the flower measures that were loaded as strings into numbers that we can work with. Next we need to split the data set randomly into train and datasets. A ratio of 67/33 for train/test is a standard ratio used.\n",
    "\n",
    "Pulling it all together, we can define a function called loadDataset that loads a CSV with the provided filename and splits it randomly into train and test datasets using the provided split ratio."
   ]
  },
  {
   "cell_type": "code",
   "execution_count": 2,
   "metadata": {},
   "outputs": [],
   "source": [
    "import pandas as pd\n",
    "import random\n",
    "\n",
    "\n",
    "def loadDataset(filename, split):\n",
    "\ttrainingSet=[]\n",
    "\ttestSet=[]\n",
    "\tdf = pd.read_csv(url, header=None)\n",
    "\tarray = df.to_numpy()\n",
    "\trandom.shuffle(array)\n",
    "\ttraining_len = int(len(array)*split)\n",
    "\ttrainingSet = array[:training_len]\n",
    "\ttestSet = array[training_len:]\n",
    "\treturn trainingSet, testSet\n"
   ]
  },
  {
   "cell_type": "markdown",
   "metadata": {},
   "source": [
    "We can test this function out with our iris dataset, as follows:"
   ]
  },
  {
   "cell_type": "code",
   "execution_count": 3,
   "metadata": {},
   "outputs": [
    {
     "name": "stdout",
     "output_type": "stream",
     "text": [
      "Train: 99\n",
      "Test: 51\n"
     ]
    }
   ],
   "source": [
    "trainingSet=[]\n",
    "testSet=[]\n",
    "url = 'https://raw.githubusercontent.com/ruiwu1990/CSCI_4120/master/KNN/iris.data'\n",
    "trainingSet, testSet = loadDataset(url, 0.66)\n",
    "\n",
    "# repr() Return a string containing a printable representation\n",
    "print('Train: ' + repr(len(trainingSet)))\n",
    "print('Test: ' + repr(len(testSet)))"
   ]
  },
  {
   "cell_type": "markdown",
   "metadata": {},
   "source": [
    "## 2. Similarity"
   ]
  },
  {
   "cell_type": "markdown",
   "metadata": {},
   "source": [
    "In order to make predictions we need to calculate the similarity between any two given data instances. This is needed so that we can locate the k most similar data instances in the training dataset for a given member of the test dataset and in turn make a prediction.\n",
    "\n",
    "Given that all four flower measurements are numeric and have the same units, we can directly use the Euclidean distance measure. This is defined as the square root of the sum of the squared differences between the two arrays of numbers (read that again a few times and let it sink in).\n",
    "\n",
    "Additionally, we want to control which fields to include in the distance calculation. Specifically, we only want to include the first 4 attributes. One approach is to limit the euclidean distance to a fixed length, ignoring the final dimension.\n",
    "\n",
    "Putting all of this together we can define the euclideanDistance function as follows:"
   ]
  },
  {
   "cell_type": "code",
   "execution_count": 4,
   "metadata": {},
   "outputs": [],
   "source": [
    "import math\n",
    "def euclideanDistance(instance1, instance2, length):\n",
    "\tdistance = 0\n",
    "\tfor x in range(length):\n",
    "\t\tdistance += pow((instance1[x] - instance2[x]), 2)\n",
    "\treturn math.sqrt(distance)"
   ]
  },
  {
   "cell_type": "markdown",
   "metadata": {},
   "source": [
    "We can test this function with some sample data, as follows:"
   ]
  },
  {
   "cell_type": "code",
   "execution_count": 5,
   "metadata": {},
   "outputs": [
    {
     "name": "stdout",
     "output_type": "stream",
     "text": [
      "Distance: 4.0\n"
     ]
    }
   ],
   "source": [
    "data1 = [2, 2, 2, 2, 'a']\n",
    "data2 = [4, 4, 4, 4, 'b']\n",
    "distance = euclideanDistance(data1, data2, 4)\n",
    "print('Distance: ' + repr(distance))"
   ]
  },
  {
   "cell_type": "markdown",
   "metadata": {},
   "source": [
    "## 3. Neighbors"
   ]
  },
  {
   "cell_type": "markdown",
   "metadata": {},
   "source": [
    "Now that we have a similarity measure, we can use it collect the k most similar instances for a given unseen instance.\n",
    "\n",
    "This is a straight forward process of calculating the distance for all instances and selecting a subset with the smallest distance values.\n",
    "\n",
    "Below is the getNeighbors function that returns k most similar neighbors from the training set for a given test instance (using the already defined euclideanDistance function)"
   ]
  },
  {
   "cell_type": "code",
   "execution_count": 6,
   "metadata": {},
   "outputs": [],
   "source": [
    "import operator \n",
    "def getNeighbors(trainingSet, testInstance, k):\n",
    "\tdistances = []\n",
    "\tlength = len(testInstance)-1\n",
    "\tfor x in range(len(trainingSet)):\n",
    "\t\tdist = euclideanDistance(testInstance, trainingSet[x], length)\n",
    "\t\tdistances.append((trainingSet[x], dist))\n",
    "    # key=operator.itemgetter(1) => order distances list based on second column (1)\n",
    "\tdistances.sort(key=operator.itemgetter(1))\n",
    "\tneighbors = []\n",
    "\tfor x in range(k):\n",
    "\t\tneighbors.append(distances[x][0])\n",
    "\treturn neighbors"
   ]
  },
  {
   "cell_type": "markdown",
   "metadata": {},
   "source": [
    "We can test out this function as follows:"
   ]
  },
  {
   "cell_type": "code",
   "execution_count": 7,
   "metadata": {},
   "outputs": [
    {
     "name": "stdout",
     "output_type": "stream",
     "text": [
      "[[4, 4, 4, 'b']]\n"
     ]
    }
   ],
   "source": [
    "trainSet = [[2, 2, 2, 'a'], [4, 4, 4, 'b']]\n",
    "testInstance = [5, 5, 5, 'b']\n",
    "k = 1\n",
    "neighbors = getNeighbors(trainSet, testInstance, k)\n",
    "print(neighbors)"
   ]
  },
  {
   "cell_type": "markdown",
   "metadata": {},
   "source": [
    "## 4. Response"
   ]
  },
  {
   "cell_type": "markdown",
   "metadata": {},
   "source": [
    "Once we have located the most similar neighbors for a test instance, the next task is to devise a predicted response based on those neighbors.\n",
    "\n",
    "We can do this by allowing each neighbor to vote for their class attribute, and take the majority vote as the prediction.\n",
    "\n",
    "Below provides a function for getting the majority voted response from a number of neighbors. It assumes the class is the last attribute for each neighbor."
   ]
  },
  {
   "cell_type": "code",
   "execution_count": 8,
   "metadata": {},
   "outputs": [],
   "source": [
    "import operator\n",
    "def getResponse(neighbors):\n",
    "    # classVotes is a dict, similar to JSON\n",
    "    # e.g., {'a': 1, 'b': 2}\n",
    "\tclassVotes = {}\n",
    "\tfor x in range(len(neighbors)):\n",
    "        # based on the last element\n",
    "\t\tresponse = neighbors[x][-1]\n",
    "\t\tif response in classVotes:\n",
    "\t\t\tclassVotes[response] += 1\n",
    "\t\telse:\n",
    "\t\t\tclassVotes[response] = 1\n",
    "    # reverse=True means the most voted item will be our response\n",
    "    # itemgetter(1): get the first item, i.e. item with most votes\n",
    "\tsortedVotes = sorted(classVotes.items(), key=operator.itemgetter(1), reverse=True)\n",
    "\treturn sortedVotes[0][0]"
   ]
  },
  {
   "cell_type": "markdown",
   "metadata": {},
   "source": [
    "We can test out this function with some test neighbors, as follows:"
   ]
  },
  {
   "cell_type": "code",
   "execution_count": 9,
   "metadata": {},
   "outputs": [
    {
     "name": "stdout",
     "output_type": "stream",
     "text": [
      "a\n"
     ]
    }
   ],
   "source": [
    "neighbors = [[1,1,1,1,'a'], [2,2,2,2,'a'], [3,3,3,3,'b']]\n",
    "response = getResponse(neighbors)\n",
    "print(response)"
   ]
  },
  {
   "cell_type": "markdown",
   "metadata": {},
   "source": [
    "This approach returns one response in the case of a draw, but you could handle such cases in a specific way, such as returning no response or selecting an unbiased random response."
   ]
  },
  {
   "cell_type": "markdown",
   "metadata": {},
   "source": [
    "## 5. Accuracy"
   ]
  },
  {
   "cell_type": "markdown",
   "metadata": {},
   "source": [
    "We have all of the pieces of the kNN algorithm in place. An important remaining concern is how to evaluate the accuracy of predictions.\n",
    "\n",
    "An easy way to evaluate the accuracy of the model is to calculate a ratio of the total correct predictions out of all predictions made, called the classification accuracy.\n",
    "\n",
    "Below is the getAccuracy function that sums the total correct predictions and returns the accuracy as a percentage of correct classifications."
   ]
  },
  {
   "cell_type": "code",
   "execution_count": 10,
   "metadata": {},
   "outputs": [],
   "source": [
    "def getAccuracy(testSet, predictions):\n",
    "\tcorrect = 0\n",
    "\tfor x in range(len(testSet)):\n",
    "\t\tif testSet[x][-1] is predictions[x]:\n",
    "\t\t\tcorrect += 1\n",
    "\treturn (correct/float(len(testSet))) * 100.0"
   ]
  },
  {
   "cell_type": "markdown",
   "metadata": {},
   "source": [
    "We can test this function with a test dataset and predictions, as follows:"
   ]
  },
  {
   "cell_type": "code",
   "execution_count": 11,
   "metadata": {},
   "outputs": [
    {
     "name": "stdout",
     "output_type": "stream",
     "text": [
      "66.66666666666666\n"
     ]
    }
   ],
   "source": [
    "testSet = [[1,1,1,1,'a'], [2,2,2,2,'a'], [3,3,3,3,'b']]\n",
    "predictions = ['a', 'a', 'a']\n",
    "accuracy = getAccuracy(testSet, predictions)\n",
    "print(accuracy)"
   ]
  },
  {
   "cell_type": "markdown",
   "metadata": {},
   "source": [
    "## 6. Main"
   ]
  },
  {
   "cell_type": "markdown",
   "metadata": {},
   "source": [
    "We now have all the elements of the algorithm and we can tie them together with a main function.\n",
    "\n",
    "Below is the example of implementing the kNN algorithm from scratch in Python.\n",
    "\n",
    "Group Activity: You need to finish the TODO section."
   ]
  },
  {
   "cell_type": "code",
   "execution_count": 12,
   "metadata": {},
   "outputs": [
    {
     "name": "stdout",
     "output_type": "stream",
     "text": [
      "Train set: 99\n",
      "Test set: 51\n",
      "1\n",
      "> predicted='Iris-setosa', actual='Iris-setosa'\n",
      "Accuracy is 78.43137254901961%\n",
      "2\n",
      "> predicted='Iris-setosa', actual='Iris-setosa'\n",
      "Accuracy is 78.43137254901961%\n",
      "3\n",
      "> predicted='Iris-setosa', actual='Iris-setosa'\n",
      "Accuracy is 78.43137254901961%\n",
      "4\n",
      "> predicted='Iris-setosa', actual='Iris-setosa'\n",
      "Accuracy is 78.43137254901961%\n",
      "5\n",
      "> predicted='Iris-setosa', actual='Iris-setosa'\n",
      "Accuracy is 78.43137254901961%\n",
      "6\n",
      "> predicted='Iris-setosa', actual='Iris-setosa'\n",
      "Accuracy is 78.43137254901961%\n",
      "7\n",
      "> predicted='Iris-setosa', actual='Iris-setosa'\n",
      "Accuracy is 78.43137254901961%\n",
      "8\n",
      "> predicted='Iris-setosa', actual='Iris-setosa'\n",
      "Accuracy is 78.43137254901961%\n",
      "9\n",
      "> predicted='Iris-setosa', actual='Iris-setosa'\n",
      "Accuracy is 78.43137254901961%\n",
      "10\n",
      "> predicted='Iris-setosa', actual='Iris-setosa'\n",
      "Accuracy is 78.43137254901961%\n",
      "11\n",
      "> predicted='Iris-setosa', actual='Iris-setosa'\n",
      "Accuracy is 78.43137254901961%\n",
      "12\n",
      "> predicted='Iris-setosa', actual='Iris-setosa'\n",
      "Accuracy is 78.43137254901961%\n",
      "13\n",
      "> predicted='Iris-setosa', actual='Iris-setosa'\n",
      "Accuracy is 78.43137254901961%\n",
      "14\n",
      "> predicted='Iris-setosa', actual='Iris-setosa'\n",
      "Accuracy is 78.43137254901961%\n",
      "15\n",
      "> predicted='Iris-setosa', actual='Iris-setosa'\n",
      "Accuracy is 78.43137254901961%\n",
      "16\n",
      "> predicted='Iris-setosa', actual='Iris-setosa'\n",
      "Accuracy is 78.43137254901961%\n",
      "17\n",
      "> predicted='Iris-setosa', actual='Iris-setosa'\n",
      "Accuracy is 78.43137254901961%\n",
      "18\n",
      "> predicted='Iris-setosa', actual='Iris-setosa'\n",
      "Accuracy is 78.43137254901961%\n",
      "19\n",
      "> predicted='Iris-setosa', actual='Iris-setosa'\n",
      "Accuracy is 78.43137254901961%\n",
      "20\n",
      "> predicted='Iris-setosa', actual='Iris-setosa'\n",
      "Accuracy is 78.43137254901961%\n",
      "20\n"
     ]
    }
   ],
   "source": [
    "# Example of kNN implemented from Scratch in Python\n",
    "\n",
    "import pandas as pd\n",
    "import random\n",
    "import math\n",
    "import operator\n",
    "import numpy as np\n",
    "\n",
    "def loadDataset(filename, split):\n",
    "\ttrainingSet=[]\n",
    "\ttestSet=[]\n",
    "\tdf = pd.read_csv(url, header=None)\n",
    "\tarray = df.to_numpy()\n",
    "\trandom.shuffle(array)\n",
    "\ttraining_len = int(len(array)*split)\n",
    "\ttrainingSet = array[:training_len]\n",
    "\ttestSet = array[training_len:]\n",
    "\treturn trainingSet, testSet\n",
    "\n",
    "\n",
    "def euclideanDistance(instance1, instance2, length):\n",
    "\tdistance = 0\n",
    "\tfor x in range(length):\n",
    "\t\tdistance += pow((instance1[x] - instance2[x]), 2)\n",
    "\treturn math.sqrt(distance)\n",
    "\n",
    "def getNeighbors(trainingSet, testInstance, k):\n",
    "\tdistances = []\n",
    "\tlength = len(testInstance)-1\n",
    "\tfor x in range(len(trainingSet)):\n",
    "\t\tdist = euclideanDistance(testInstance, trainingSet[x], length)\n",
    "\t\tdistances.append((trainingSet[x], dist))\n",
    "\tdistances.sort(key=operator.itemgetter(1))\n",
    "\tneighbors = []\n",
    "\tfor x in range(k):\n",
    "\t\tneighbors.append(distances[x][0])\n",
    "\treturn neighbors\n",
    "\n",
    "def getResponse(neighbors):\n",
    "\tclassVotes = {}\n",
    "\tfor x in range(len(neighbors)):\n",
    "\t\tresponse = neighbors[x][-1]\n",
    "\t\tif response in classVotes:\n",
    "\t\t\tclassVotes[response] += 1\n",
    "\t\telse:\n",
    "\t\t\tclassVotes[response] = 1\n",
    "\tsortedVotes = sorted(classVotes.items(), key=operator.itemgetter(1), reverse=True)\n",
    "\treturn sortedVotes[0][0]\n",
    "\n",
    "def getAccuracy(testSet, predictions):\n",
    "\tcorrect = 0\n",
    "\tfor x in range(len(testSet)):\n",
    "\t\tif testSet[x][-1] == predictions[x]:\n",
    "\t\t\tcorrect += 1\n",
    "\treturn (correct/float(len(testSet))) * 100.0\n",
    "\t\n",
    "def main():\n",
    "\t# prepare data\n",
    "\ttrainingSet=[]\n",
    "\ttestSet=[]\n",
    "\tsplit = 0.67\n",
    "\turl = 'https://raw.githubusercontent.com/ruiwu1990/CSCI_4120/master/KNN/iris.data'\n",
    "\ttrainingSet, testSet = loadDataset(url, 0.66)\n",
    "\tprint('Train set: ' + repr(len(trainingSet)))\n",
    "\tprint('Test set: ' + repr(len(testSet)))\n",
    "\t# generate predictions\n",
    "\tpredictions=[]\n",
    "\tk_range = [1,2,3,4,5,6,7,8,9,10,11,12,13,14,15,16,17,18,19,20]\n",
    "\tfor k in k_range: \n",
    "\t\tprint(k)\n",
    "\t# loop through testSet\n",
    "\t\tfor x in range(len(testSet)):\n",
    "\t\t# TODO starts here\n",
    "\t\t# get neighor between current test record and all training datasets\n",
    "\t\t\tneighbors = getNeighbors(trainingSet, testSet[x], k)\n",
    "\t\t#get response\n",
    "\t\t\tresult = getResponse(neighbors)\n",
    "\t\t# append current prediction result to predictions list\n",
    "\t\t\tpredictions.append(result)\n",
    "\t\tprint('> predicted=' + repr(result) + ', actual=' + repr(testSet[x][-1]))\n",
    "\t\t# TODO ends here\n",
    "\t\taccuracy = getAccuracy(testSet, predictions)\n",
    "\t\tprint('Accuracy is ' + repr(accuracy) + '%')\n",
    "\tprint(k)\n",
    "main()\n",
    "\n",
    "\n",
    "\n",
    "\n",
    "\n"
   ]
  },
  {
   "cell_type": "code",
   "execution_count": 13,
   "metadata": {},
   "outputs": [
    {
     "name": "stdout",
     "output_type": "stream",
     "text": [
      "Train set: 99\n",
      "Test set: 51\n"
     ]
    },
    {
     "ename": "NameError",
     "evalue": "name 'KNeighborsClassifier' is not defined",
     "output_type": "error",
     "traceback": [
      "\u001b[0;31m---------------------------------------------------------------------------\u001b[0m",
      "\u001b[0;31mNameError\u001b[0m                                 Traceback (most recent call last)",
      "\u001b[0;32m<ipython-input-13-261cf80f789c>\u001b[0m in \u001b[0;36m<module>\u001b[0;34m\u001b[0m\n\u001b[1;32m     21\u001b[0m                         \u001b[0mprint\u001b[0m\u001b[0;34m(\u001b[0m\u001b[0;34m'Accuracy is '\u001b[0m \u001b[0;34m+\u001b[0m \u001b[0mrepr\u001b[0m\u001b[0;34m(\u001b[0m\u001b[0maccuracy\u001b[0m\u001b[0;34m)\u001b[0m \u001b[0;34m+\u001b[0m \u001b[0;34m'%'\u001b[0m\u001b[0;34m)\u001b[0m\u001b[0;34m\u001b[0m\u001b[0;34m\u001b[0m\u001b[0m\n\u001b[1;32m     22\u001b[0m \u001b[0;34m\u001b[0m\u001b[0m\n\u001b[0;32m---> 23\u001b[0;31m \u001b[0mmain\u001b[0m\u001b[0;34m(\u001b[0m\u001b[0;34m)\u001b[0m\u001b[0;34m\u001b[0m\u001b[0;34m\u001b[0m\u001b[0m\n\u001b[0m\u001b[1;32m     24\u001b[0m \u001b[0;34m\u001b[0m\u001b[0m\n\u001b[1;32m     25\u001b[0m \u001b[0;34m\u001b[0m\u001b[0m\n",
      "\u001b[0;32m<ipython-input-13-261cf80f789c>\u001b[0m in \u001b[0;36mmain\u001b[0;34m()\u001b[0m\n\u001b[1;32m     15\u001b[0m                 \u001b[0;31m# generate predictions\u001b[0m\u001b[0;34m\u001b[0m\u001b[0;34m\u001b[0m\u001b[0;34m\u001b[0m\u001b[0m\n\u001b[1;32m     16\u001b[0m \u001b[0;34m\u001b[0m\u001b[0m\n\u001b[0;32m---> 17\u001b[0;31m                         \u001b[0mknn\u001b[0m \u001b[0;34m=\u001b[0m \u001b[0mKNeighborsClassifier\u001b[0m\u001b[0;34m(\u001b[0m\u001b[0mn_neighbors\u001b[0m\u001b[0;34m=\u001b[0m\u001b[0mk\u001b[0m\u001b[0;34m)\u001b[0m\u001b[0;34m\u001b[0m\u001b[0;34m\u001b[0m\u001b[0m\n\u001b[0m\u001b[1;32m     18\u001b[0m \u001b[0;34m\u001b[0m\u001b[0m\n\u001b[1;32m     19\u001b[0m \u001b[0;34m\u001b[0m\u001b[0m\n",
      "\u001b[0;31mNameError\u001b[0m: name 'KNeighborsClassifier' is not defined"
     ]
    }
   ],
   "source": [
    "#HW1-Experimental (do not grade)\n",
    "\n",
    "def main():\n",
    "\tk_range = list(range(1,20))\n",
    "\tfor k in k_range:        \n",
    "\t\tfor i in range(5):\n",
    "\t\t# prepare data\n",
    "\t\t\ttrainingSet=[]\n",
    "\t\t\ttestSet=[]\n",
    "\t\t\tsplit = 0.67\n",
    "\t\t\turl = 'https://raw.githubusercontent.com/ruiwu1990/CSCI_4120/master/KNN/iris.data'\n",
    "\t\t\ttrainingSet, testSet = loadDataset(url, 0.66)\n",
    "\t\t\tprint('Train set: ' + repr(len(trainingSet)))\n",
    "\t\t\tprint('Test set: ' + repr(len(testSet)))\n",
    "\t\t# generate predictions\n",
    "\t\t\t\n",
    "\t\t\tknn = KNeighborsClassifier(n_neighbors=k)\n",
    "\t\t\t\n",
    "\t\t\t\n",
    "\t\t\taccuracy = getAccuracy(testSet, predictions)\n",
    "\t\t\tprint('Accuracy is ' + repr(accuracy) + '%')\n",
    "\n",
    "main()\n",
    "\n",
    "\n",
    "\n"
   ]
  },
  {
   "cell_type": "code",
   "execution_count": null,
   "metadata": {},
   "outputs": [],
   "source": [
    "##Testing with Sckit\n",
    "!pip3 install -U scikit-learn\n",
    "\n",
    "!pip3 install matplotlib\n",
    "import pandas as pd\n",
    "import random\n",
    "import math\n",
    "import operator\n",
    "import numpy as np\n",
    "import matplotlib as mpl\n",
    "%matplotlib inline\n",
    "import matplotlib.pyplot as plt\n",
    "\n",
    "from sklearn import metrics\n",
    "from sklearn.neighbors import KNeighborsClassifier\n",
    "from sklearn.linear_model import LogisticRegression\n",
    "from sklearn.model_selection import train_test_split\n",
    "\n",
    "url = 'https://raw.githubusercontent.com/ruiwu1990/CSCI_4120/master/KNN/iris.data'\n",
    "df = pd.read_csv(url, header= 0, names = ['SepalLengthCm','SepalWidthCm','PetalLengthCm','PetalWidthCm','Species'])\n",
    "print(df.head())\n",
    "df.info()\n",
    "\n",
    "X = df.drop('Species', axis=1)\n",
    "y = df['Species']\n",
    "\n",
    "k_range = list(range(1,20))\n",
    "for k in k_range:        \n",
    "scores =[]\n",
    "accuracy = []\n",
    "for k in k_range: \n",
    "    knn = KNeighborsClassifier(n_neighbors=k)\n",
    "    knn.fit(X,y)\n",
    "    y_pred = knn.predict(X)\n",
    "    scores.append(metrics.accuracy_score(y,y_pred))\n",
    "plt.plot(k_range,scores)\n"
   ]
  },
  {
   "cell_type": "code",
   "execution_count": null,
   "metadata": {},
   "outputs": [],
   "source": [
    "##Sckitit Testing and training data\n",
    "\n",
    "import pandas as pd\n",
    "import random\n",
    "import math\n",
    "import operator\n",
    "import numpy as np\n",
    "import matplotlib as mpl\n",
    "%matplotlib inline\n",
    "import matplotlib.pyplot as plt\n",
    "\n",
    "from sklearn import metrics\n",
    "from sklearn.neighbors import KNeighborsClassifier\n",
    "from sklearn.linear_model import LogisticRegression\n",
    "from sklearn.model_selection import train_test_split\n",
    "\n",
    "##instance 1\n",
    "\n",
    "url = 'https://raw.githubusercontent.com/ruiwu1990/CSCI_4120/master/KNN/iris.data'\n",
    "df = pd.read_csv(url, header= 0, names = ['SepalLengthCm','SepalWidthCm','PetalLengthCm','PetalWidthCm','Species'])\n",
    "#print(df.head())\n",
    "#df.info()\n",
    "\n",
    "X1 = df.drop('Species', axis=1)\n",
    "y1 = df['Species']\n",
    "\n",
    "X_train1, X_test1, y_train1, y_test1 = train_test_split(X1, y1, test_size=0.66, random_state= 0)\n",
    "\n",
    "\n",
    "k_range = list(range(1,21))\n",
    "scores1 =[]\n",
    "for k in k_range:\n",
    "    knn = KNeighborsClassifier(n_neighbors=k)\n",
    "    knn.fit(X_train1,y_train1)\n",
    "    y_pred1 = knn.predict(X_test1)\n",
    "    scores1.append(metrics.accuracy_score(y_test1,y_pred1))\n",
    "plt.plot(k_range,scores1)\n",
    "\n",
    "\n",
    "##instance 2\n",
    "url = 'https://raw.githubusercontent.com/ruiwu1990/CSCI_4120/master/KNN/iris.data'\n",
    "df = pd.read_csv(url, header= 0, names = ['SepalLengthCm','SepalWidthCm','PetalLengthCm','PetalWidthCm','Species'])\n",
    "X2 = df.drop('Species', axis=1)\n",
    "y2 = df['Species']\n",
    "\n",
    "X_train2, X_test2, y_train2, y_test2 = train_test_split(X2, y2, test_size=0.66, random_state=2)\n",
    "\n",
    "\n",
    "k_range = list(range(1,21))\n",
    "scores2 =[]\n",
    "for k in k_range:\n",
    "    knn = KNeighborsClassifier(n_neighbors=k)\n",
    "    knn.fit(X_train2,y_train2)\n",
    "    y_pred2 = knn.predict(X_test2)\n",
    "    scores2.append(metrics.accuracy_score(y_test2,y_pred2))\n",
    "plt.plot(k_range,scores2)\n",
    "\n",
    "##instance 3\n",
    "url = 'https://raw.githubusercontent.com/ruiwu1990/CSCI_4120/master/KNN/iris.data'\n",
    "df = pd.read_csv(url, header= 0, names = ['SepalLengthCm','SepalWidthCm','PetalLengthCm','PetalWidthCm','Species'])\n",
    "X3 = df.drop('Species', axis=1)\n",
    "y3 = df['Species']\n",
    "\n",
    "X_train3, X_test3, y_train3, y_test3 = train_test_split(X3, y3, test_size=0.66, random_state= 2)\n",
    "\n",
    "\n",
    "k_range = list(range(1,21))\n",
    "scores3 =[]\n",
    "for k in k_range:\n",
    "    knn = KNeighborsClassifier(n_neighbors=k)\n",
    "    knn.fit(X_train3,y_train3)\n",
    "    y_pred3 = knn.predict(X_test3)\n",
    "    scores3.append(metrics.accuracy_score(y_test3,y_pred3))\n",
    "plt.plot(k_range,scores3)\n",
    "\n",
    "##instance 4\n",
    "url = 'https://raw.githubusercontent.com/ruiwu1990/CSCI_4120/master/KNN/iris.data'\n",
    "df = pd.read_csv(url, header= 0, names = ['SepalLengthCm','SepalWidthCm','PetalLengthCm','PetalWidthCm','Species'])\n",
    "X4 = df.drop('Species', axis=1)\n",
    "y4 = df['Species']\n",
    "\n",
    "X_train4, X_test4, y_train4, y_test4 = train_test_split(X4, y4, test_size=0.66, random_state= 3)\n",
    "\n",
    "\n",
    "k_range = list(range(1,21))\n",
    "scores4 =[]\n",
    "for k in k_range:\n",
    "    knn = KNeighborsClassifier(n_neighbors=k)\n",
    "    knn.fit(X_train4,y_train4)\n",
    "    y_pred4 = knn.predict(X_test4)\n",
    "    scores4.append(metrics.accuracy_score(y_test4,y_pred4))\n",
    "plt.plot(k_range,scores4)\n",
    "\n",
    "##instance 5\n",
    "url = 'https://raw.githubusercontent.com/ruiwu1990/CSCI_4120/master/KNN/iris.data'\n",
    "df = pd.read_csv(url, header= 0, names = ['SepalLengthCm','SepalWidthCm','PetalLengthCm','PetalWidthCm','Species'])\n",
    "X5 = df.drop('Species', axis=1)\n",
    "y5 = df['Species']\n",
    "\n",
    "X_train5, X_test5, y_train5, y_test5 = train_test_split(X5, y5, test_size=0.66, random_state= 4)\n",
    "\n",
    "\n",
    "k_range = list(range(1,21))\n",
    "scores5 =[]\n",
    "for k in k_range:\n",
    "    knn = KNeighborsClassifier(n_neighbors=k)\n",
    "    knn.fit(X_train5,y_train5)\n",
    "    y_pred5 = knn.predict(X_test5)\n",
    "    scores5.append(metrics.accuracy_score(y_test5,y_pred5))\n",
    "plt.plot(k_range,scores5)\n"
   ]
  },
  {
   "cell_type": "code",
   "execution_count": 22,
   "metadata": {
    "scrolled": false
   },
   "outputs": [
    {
     "name": "stdout",
     "output_type": "stream",
     "text": [
      "   SepalLengthCm  SepalWidthCm  PetalLengthCm  PetalWidthCm      Species\n",
      "0            4.9           3.0            1.4           0.2  Iris-setosa\n",
      "1            4.7           3.2            1.3           0.2  Iris-setosa\n",
      "2            4.6           3.1            1.5           0.2  Iris-setosa\n",
      "3            5.0           3.6            1.4           0.2  Iris-setosa\n",
      "4            5.4           3.9            1.7           0.4  Iris-setosa\n",
      "<class 'pandas.core.frame.DataFrame'>\n",
      "RangeIndex: 149 entries, 0 to 148\n",
      "Data columns (total 5 columns):\n",
      " #   Column         Non-Null Count  Dtype  \n",
      "---  ------         --------------  -----  \n",
      " 0   SepalLengthCm  149 non-null    float64\n",
      " 1   SepalWidthCm   149 non-null    float64\n",
      " 2   PetalLengthCm  149 non-null    float64\n",
      " 3   PetalWidthCm   149 non-null    float64\n",
      " 4   Species        149 non-null    object \n",
      "dtypes: float64(4), object(1)\n",
      "memory usage: 5.9+ KB\n",
      "1 [0.9494949494949495]\n",
      "1 [0.9595959595959596]\n",
      "1 [0.9292929292929293]\n",
      "1 [0.9696969696969697]\n",
      "1 [0.9292929292929293]\n",
      "2 [0.8585858585858586]\n",
      "2 [0.9393939393939394]\n",
      "2 [0.9191919191919192]\n",
      "2 [0.9292929292929293]\n",
      "2 [0.9595959595959596]\n",
      "3 [0.9494949494949495]\n",
      "3 [0.9696969696969697]\n",
      "3 [0.9696969696969697]\n",
      "3 [0.9393939393939394]\n",
      "3 [0.9292929292929293]\n",
      "4 [0.9696969696969697]\n",
      "4 [0.9797979797979798]\n",
      "4 [0.9393939393939394]\n",
      "4 [0.9393939393939394]\n",
      "4 [0.9393939393939394]\n",
      "5 [0.9494949494949495]\n",
      "5 [0.9595959595959596]\n",
      "5 [0.9696969696969697]\n",
      "5 [0.9494949494949495]\n",
      "5 [0.9595959595959596]\n",
      "6 [0.9595959595959596]\n",
      "6 [0.9191919191919192]\n",
      "6 [0.9393939393939394]\n",
      "6 [0.9292929292929293]\n",
      "6 [0.9393939393939394]\n",
      "7 [0.9696969696969697]\n",
      "7 [0.9393939393939394]\n",
      "7 [0.9696969696969697]\n",
      "7 [0.9494949494949495]\n",
      "7 [0.9393939393939394]\n",
      "8 [0.898989898989899]\n",
      "8 [0.9090909090909091]\n",
      "8 [0.8787878787878788]\n",
      "8 [0.9494949494949495]\n",
      "8 [0.9696969696969697]\n",
      "9 [0.9595959595959596]\n",
      "9 [0.98989898989899]\n",
      "9 [0.9393939393939394]\n",
      "9 [0.9393939393939394]\n",
      "9 [0.9696969696969697]\n",
      "10 [0.9494949494949495]\n",
      "10 [0.9292929292929293]\n",
      "10 [0.9797979797979798]\n",
      "10 [0.9696969696969697]\n",
      "10 [0.9595959595959596]\n",
      "11 [0.9797979797979798]\n",
      "11 [0.9494949494949495]\n",
      "11 [0.9696969696969697]\n",
      "11 [0.9393939393939394]\n",
      "11 [0.898989898989899]\n",
      "12 [0.9595959595959596]\n",
      "12 [0.9696969696969697]\n",
      "12 [0.9797979797979798]\n",
      "12 [0.9191919191919192]\n",
      "12 [0.8888888888888888]\n",
      "13 [0.9191919191919192]\n",
      "13 [0.9191919191919192]\n",
      "13 [0.898989898989899]\n",
      "13 [0.9494949494949495]\n",
      "13 [0.9494949494949495]\n",
      "14 [0.9494949494949495]\n",
      "14 [0.9393939393939394]\n",
      "14 [0.9494949494949495]\n",
      "14 [0.8585858585858586]\n",
      "14 [0.9494949494949495]\n",
      "15 [0.9393939393939394]\n",
      "15 [0.9191919191919192]\n",
      "15 [0.9191919191919192]\n",
      "15 [0.9393939393939394]\n",
      "15 [0.8888888888888888]\n",
      "16 [0.9090909090909091]\n",
      "16 [0.9292929292929293]\n",
      "16 [0.9393939393939394]\n",
      "16 [0.9696969696969697]\n",
      "16 [0.9292929292929293]\n",
      "17 [0.9292929292929293]\n",
      "17 [0.9393939393939394]\n",
      "17 [0.9494949494949495]\n",
      "17 [0.9292929292929293]\n",
      "17 [0.898989898989899]\n",
      "18 [0.9494949494949495]\n",
      "18 [0.898989898989899]\n",
      "18 [0.9393939393939394]\n",
      "18 [0.9494949494949495]\n",
      "18 [0.898989898989899]\n",
      "19 [0.9393939393939394]\n",
      "19 [0.9696969696969697]\n",
      "19 [0.7777777777777778]\n",
      "19 [0.9292929292929293]\n",
      "19 [0.9494949494949495]\n",
      "20 [0.9090909090909091]\n",
      "20 [0.898989898989899]\n",
      "20 [0.898989898989899]\n",
      "20 [0.9292929292929293]\n",
      "20 [0.9090909090909091]\n"
     ]
    },
    {
     "data": {
      "text/plain": [
       "Text(0.5, 1.0, 'Average Accuracy Scores for K Values')"
      ]
     },
     "execution_count": 22,
     "metadata": {},
     "output_type": "execute_result"
    },
    {
     "data": {
      "image/png": "[encoded data removed]",
      "text/plain": [
       "<Figure size 432x288 with 1 Axes>"
      ]
     },
     "metadata": {
      "needs_background": "light"
     },
     "output_type": "display_data"
    }
   ],
   "source": [
    "## HW 1 to be graded\n",
    "\n",
    "import pandas as pd\n",
    "import random\n",
    "import math\n",
    "import operator\n",
    "import numpy as np\n",
    "import matplotlib as mpl\n",
    "%matplotlib inline\n",
    "import matplotlib.pyplot as plt\n",
    "\n",
    "from sklearn import metrics\n",
    "from sklearn.neighbors import KNeighborsClassifier\n",
    "from sklearn.linear_model import LogisticRegression\n",
    "from sklearn.model_selection import train_test_split\n",
    "\n",
    "\n",
    "url = 'https://raw.githubusercontent.com/ruiwu1990/CSCI_4120/master/KNN/iris.data'\n",
    "df = pd.read_csv(url, header= 0, names = ['SepalLengthCm','SepalWidthCm','PetalLengthCm','PetalWidthCm','Species'])\n",
    "print(df.head())\n",
    "df.info()\n",
    "\n",
    "#X_train, X_test, y_train, y_test = train_test_split(X, y, test_size=0.66, random_state= 5)\n",
    "#X = df.drop('Species', axis=1)\n",
    "#y = df['Species']\n",
    "\n",
    "k_range = list(range(1,21))\n",
    "#scores =[]\n",
    "for k in k_range:\n",
    "    for i in range(5):\n",
    "        X = df.drop('Species', axis=1)\n",
    "        y = df['Species']\n",
    "        X_train, X_test, y_train, y_test = train_test_split(X, y, test_size=0.66)\n",
    "        scores=[]\n",
    "        knn = KNeighborsClassifier(n_neighbors=k)\n",
    "        knn.fit(X_train,y_train)\n",
    "        y_pred = knn.predict(X_test)\n",
    "        scores.append(metrics.accuracy_score(y_test,y_pred))\n",
    "        #means= np.mean(str(k),str(i),scores)\n",
    "\n",
    "        print(str(k),scores)\n",
    "        \n",
    "##Average for K Vals\n",
    "import csv\n",
    "from io import StringIO\n",
    "\n",
    "##The code below did not work for importing csv columns into variables. Instead, values were saved in a csv sheet and manually typed in\n",
    "#mean_acc = pd.read_csv('/home/naomi/Desktop/CSCI_4120/KNN/CSCI_4120_HW1/average_accuracy_for_k_values.csv')\n",
    "#mean_acc_df= pd.DataFrame(mean_acc, columns=['k_value','Average_Accuracy_Score'])\n",
    "#print(mean_acc_df)\n",
    "\n",
    "k_values = [1,2,3,4,5,6,7,8,9,10,11,12,13,14,15,16,17,18,19,20]\n",
    "Average_Accuracy_Score = [0.947474747474747, 0.943434343434343, 0.955555555555555, 0.957575757575758, 0.943434343434343, 0.933333333333333,0.947474747474747, 0.927272727272727,0.961616161616162,0.951515151515152,0.937373737373737, 0.941414141414141, 0.937373737373737, 0.935353535353535, 0.919191919191919, 0.917171717171717, 0.894949494949495, 0.917171717171717, 0.931818181818182, 0.880808080808081]\n",
    "                          \n",
    "plt.plot(k_values,Average_Accuracy_Score)\n",
    "\n",
    "plt.xlabel('K Value')\n",
    "plt.ylabel('Average Accuracy Score')\n",
    "plt.title('Average Accuracy Scores for K Values')\n",
    "\n",
    "\n",
    "\n",
    "\n",
    "\n",
    "\n",
    "\n",
    "\n",
    "\n",
    "\n",
    "\n",
    "\n",
    "\n",
    "\n"
   ]
  },
  {
   "cell_type": "code",
   "execution_count": 24,
   "metadata": {},
   "outputs": [
    {
     "ename": "NameError",
     "evalue": "name 'check' is not defined",
     "output_type": "error",
     "traceback": [
      "\u001b[0;31m---------------------------------------------------------------------------\u001b[0m",
      "\u001b[0;31mNameError\u001b[0m                                 Traceback (most recent call last)",
      "\u001b[0;32m<ipython-input-24-3f158ab0b9b1>\u001b[0m in \u001b[0;36m<module>\u001b[0;34m\u001b[0m\n\u001b[0;32m----> 1\u001b[0;31m \u001b[0mcheck\u001b[0m\u001b[0;34m-\u001b[0m\u001b[0minstalled\u001b[0m\u001b[0;34m-\u001b[0m\u001b[0mdependencies\u001b[0m\u001b[0;34m\u001b[0m\u001b[0;34m\u001b[0m\u001b[0m\n\u001b[0m",
      "\u001b[0;31mNameError\u001b[0m: name 'check' is not defined"
     ]
    }
   ],
   "source": [
    "check-installed-dependencies"
   ]
  },
  {
   "cell_type": "code",
   "execution_count": null,
   "metadata": {},
   "outputs": [],
   "source": []
  },
  {
   "cell_type": "code",
   "execution_count": null,
   "metadata": {},
   "outputs": [],
   "source": []
  },
  {
   "cell_type": "code",
   "execution_count": null,
   "metadata": {},
   "outputs": [],
   "source": []
  }
 ],
 "metadata": {
  "kernelspec": {
   "display_name": "Python 3",
   "language": "python",
   "name": "python3"
  },
  "language_info": {
   "codemirror_mode": {
    "name": "ipython",
    "version": 3
   },
   "file_extension": ".py",
   "mimetype": "text/x-python",
   "name": "python",
   "nbconvert_exporter": "python",
   "pygments_lexer": "ipython3",
   "version": "3.8.10"
  }
 },
 "nbformat": 4,
 "nbformat_minor": 2
}
